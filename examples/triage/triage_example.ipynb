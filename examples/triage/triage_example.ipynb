{
 "cells": [
  {
   "cell_type": "markdown",
   "metadata": {},
   "source": [
    "# Execuçao com Agente Triagem"
   ]
  },
  {
   "cell_type": "code",
   "execution_count": null,
   "metadata": {},
   "outputs": [],
   "source": [
    "from monkai_agent.base import AgentManager\n",
    "from monkai_agent.repl import run_demo_loop\n",
    "from openai import AzureOpenAI\n",
    "import config\n",
    "\n",
    "\n",
    "if __name__ == '__main__': \n",
    "    \"\"\"\n",
    "    Run the demo loop for different agent builders.\n",
    "\n",
    "    Import and instantiate specific agent builders for different roles, \n",
    "    such as Python developer, information researcher, journalist, \n",
    "    and secure calculator. Add these builders to a list for later use in \n",
    "    the demo loop, as many agents you created in the system can be added to this loop.\n",
    "\n",
    "    \"\"\"\n",
    "\n",
    "    from python_developer_agent_creator import PythonDeveloperAgentCreator\n",
    "    from jornalist_agent_creator import JornalistAgentCreator\n",
    "    from calculator_agents_creator import CalculatorAgentCriator\n",
    "    \n",
    "    agents_creators = []\n",
    "    agents_creators.append(PythonDeveloperAgentCreator(user ='valid_user'))\n",
    "    agents_creators.append(JornalistAgentCreator())\n",
    "    agents_creators.append(CalculatorAgentCriator(\"valid_user\"))\n",
    "    client=AzureOpenAI(\n",
    "            api_key=config.OPENAI_API_KEY_BRASILSOUTH,\n",
    "            api_version=config.GPT4o_OPENAI_API_VERSION_BRASILSOUTH,\n",
    "            azure_endpoint=config.OPENAI_AZURE_ENDPOINT_BRASILSOUTH,\n",
    "        )\n",
    "    agent_manager = AgentManager(client=client, agents_creators=agents_creators)\n",
    "    await run_demo_loop(agent_manager, model=config.GPT4o_OPENAI_GPT_MODEL_BRASILSOUTH)\n",
    "\n",
    "   "
   ]
  }
 ],
 "metadata": {
  "kernelspec": {
   "display_name": ".venv",
   "language": "python",
   "name": "python3"
  },
  "language_info": {
   "codemirror_mode": {
    "name": "ipython",
    "version": 3
   },
   "file_extension": ".py",
   "mimetype": "text/x-python",
   "name": "python",
   "nbconvert_exporter": "python",
   "pygments_lexer": "ipython3",
   "version": "3.11.11"
  }
 },
 "nbformat": 4,
 "nbformat_minor": 2
}
