{
 "cells": [
  {
   "cell_type": "markdown",
   "metadata": {},
   "source": [
    "# Execuçao com Agente Triagem"
   ]
  },
  {
   "cell_type": "code",
   "execution_count": 1,
   "metadata": {},
   "outputs": [
    {
     "name": "stdout",
     "output_type": "stream",
     "text": [
      "Building triage agent\n",
      "[<python_developer_agent_creator.PythonDeveloperAgentCreator object at 0x10745e3d0>, <jornalist_agent_creator.JornalistAgentCreator object at 0x106c9d150>, <calculator_agents_creator.CalculatorAgentCriator object at 0x1075a2910>]\n",
      "Python Developer Agent\n",
      "You are a Python developer and you have to create Python code from text provided by the user.\n",
      "Jornalist Agent\n",
      "You are an agent in charge of summarizing the day's news read in specific newspapers.\n",
      "Calculator Agent\n",
      "You are an agent responsible for performing mathematical calculations.\n",
      "Starting MonkAI Agent ✨\n",
      "\u001b[94mTriage Agent\u001b[0m: \u001b[95mtransfer_to_Jornalist_Agent\u001b[0m()\n",
      "\u001b[94mJornalist Agent\u001b[0m: \u001b[95mread_news\u001b[0m()\n",
      "\u001b[94mJornalist Agent\u001b[0m: Estas son las noticias más destacadas del día:\n",
      "\n",
      "1. **Política**: Varios partidos están discutiendo sobre posibles alianzas para las próximas elecciones. Diferentes líderes han expresado sus intenciones de formar coaliciones para fortalecer sus campañas.\n",
      "\n",
      "2. **Economía**: Las proyecciones económicas para el próximo trimestre indican un posible crecimiento en varios sectores, especialmente en la tecnología y las telecomunicaciones. Sin embargo, la inflación sigue siendo una preocupación importante.\n",
      "\n",
      "3. **Salud**: Aumento en los casos de enfermedades respiratorias debido al cambio de estación. Los expertos recomiendan medidas preventivas, como la vacunación y el uso de máscaras en lugares concurridos.\n",
      "\n",
      "4. **Cultura**: Se anuncia un nuevo festival de música que contará con la participación de artistas internacionales. El evento promete ser un gran atractivo turístico y cultural para la región.\n",
      "\n",
      "5. **Deportes**: El equipo nacional sigue preparándose para el próximo torneo internacional con sesiones de entrenamiento intensivas y partidos amistosos.\n",
      "\n",
      "Estas son solo algunas de las noticias que marcan la pauta en diferentes áreas y que podrían interesarte.\n",
      "\u001b[94mJornalist Agent\u001b[0m: \u001b[95mtransfer_to_triage\u001b[0m()\n",
      "\u001b[94mTriage Agent\u001b[0m: Hola, ¿en qué más puedo ayudarte hoy?\n",
      "\u001b[94mTriage Agent\u001b[0m: \u001b[95mtransfer_to_Calculator_Agent\u001b[0m()\n",
      "\u001b[94mCalculator Agent\u001b[0m: \u001b[95mbernoulli\u001b[0m(\"n\"= 10)\n",
      "\u001b[94mCalculator Agent\u001b[0m: La secuencia de Bernoulli para \\( n = 10 \\) es la siguiente:\n",
      "\n",
      "\\[ [1.0, 0.25, 0.1111111111111111, 0.0625, 0.04000000000000001, 0.027777777777777776, 0.02040816326530612, 0.015625, 0.012345679012345677, 0.009999999999999998, 0.008264462809917357] \\]\n",
      "\u001b[94mCalculator Agent\u001b[0m: \u001b[95mfibonacci\u001b[0m(\"num1\"= \"10\")\n",
      "\u001b[94mCalculator Agent\u001b[0m: Los primeros 10 números de la secuencia de Fibonacci son:\n",
      "\n",
      "\\[ [0, 1, 1, 2, 3, 5, 8, 13, 21, 34] \\]\n",
      "Exiting MonkAI Agent 🚀\n"
     ]
    }
   ],
   "source": [
    "from monkai_agent.base import AgentManager\n",
    "from monkai_agent.repl import run_demo_loop\n",
    "from openai import AzureOpenAI\n",
    "import config\n",
    "\n",
    "\n",
    "if __name__ == '__main__': \n",
    "    \"\"\"\n",
    "    Run the demo loop for different agent builders.\n",
    "\n",
    "    Import and instantiate specific agent builders for different roles, \n",
    "    such as Python developer, information researcher, journalist, \n",
    "    and secure calculator. Add these builders to a list for later use in \n",
    "    the demo loop, as many agents you created in the system can be added to this loop.\n",
    "\n",
    "    \"\"\"\n",
    "\n",
    "    from python_developer_agent_creator import PythonDeveloperAgentCreator\n",
    "    from jornalist_agent_creator import JornalistAgentCreator\n",
    "    from calculator_agents_creator import CalculatorAgentCriator\n",
    "    \n",
    "    agents_creators = []\n",
    "    agents_creators.append(PythonDeveloperAgentCreator(user ='valid_user'))\n",
    "    agents_creators.append(JornalistAgentCreator())\n",
    "    agents_creators.append(CalculatorAgentCriator(\"valid_user\"))\n",
    "    client=AzureOpenAI(\n",
    "            api_key=config.OPENAI_API_KEY_BRASILSOUTH,\n",
    "            api_version=config.GPT4o_OPENAI_API_VERSION_BRASILSOUTH,\n",
    "            azure_endpoint=config.OPENAI_AZURE_ENDPOINT_BRASILSOUTH,\n",
    "        )\n",
    "    agent_manager = AgentManager(client=client, agents_creators=agents_creators)\n",
    "    await run_demo_loop(agent_manager, model=config.GPT4o_OPENAI_GPT_MODEL_BRASILSOUTH)\n",
    "\n",
    "   "
   ]
  }
 ],
 "metadata": {
  "kernelspec": {
   "display_name": ".venv",
   "language": "python",
   "name": "python3"
  },
  "language_info": {
   "codemirror_mode": {
    "name": "ipython",
    "version": 3
   },
   "file_extension": ".py",
   "mimetype": "text/x-python",
   "name": "python",
   "nbconvert_exporter": "python",
   "pygments_lexer": "ipython3",
   "version": "3.11.11"
  }
 },
 "nbformat": 4,
 "nbformat_minor": 2
}
