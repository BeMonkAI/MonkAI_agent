{
 "cells": [
  {
   "cell_type": "markdown",
   "metadata": {},
   "source": [
    "# Execuçao com Agente Triagem"
   ]
  },
  {
   "cell_type": "code",
   "execution_count": 3,
   "metadata": {},
   "outputs": [
    {
     "name": "stdout",
     "output_type": "stream",
     "text": [
      "Building triage agent\n",
      "[<python_developer_agent_creator.PythonDeveloperAgentCreator object at 0x107ac5810>, <jornalist_agent_creator.JornalistAgentCreator object at 0x107ac5bd0>, <calculator_agents_creator.CalculatorAgentCriator object at 0x107ac5900>]\n",
      "Python Developer Agent\n",
      "You are a Python developer and you have to create Python code from text provided by the user.\n",
      "Jornalist Agent\n",
      "You are an agent in charge of summarizing the day's news read in specific newspapers.\n",
      "Calculator Agent\n",
      "You are an agent responsible for performing mathematical calculations.\n",
      "Starting MonkAI Agent ✨\n",
      "\u001b[94mTriage Agent\u001b[0m: Olá! Como posso ajudar você hoje?\n",
      "\u001b[94mTriage Agent\u001b[0m: \u001b[95mtransfer_to_Calculator_Agent\u001b[0m()\n",
      "\u001b[94mCalculator Agent\u001b[0m: Vamos calcular a sequência de Fibonacci. Eu irei te fornecer os 5 primeiros números da sequência. Vou executar a função agora.\n",
      "\u001b[95mfibonacci\u001b[0m(\"num1\"= \"5\")\n",
      "\u001b[94mCalculator Agent\u001b[0m: Os primeiros 5 números da sequência de Fibonacci são: [0, 1, 1, 2, 3]. \n",
      "\n",
      "Se precisar de mais alguma coisa, estou à disposição!\n",
      "\u001b[94mCalculator Agent\u001b[0m: \u001b[95mtransfer_to_triage\u001b[0m()\n",
      "\u001b[94mTriage Agent\u001b[0m: Estou de volta! Como posso ajudar você hoje?\n",
      "\u001b[94mTriage Agent\u001b[0m: \u001b[95mtransfer_to_Jornalist_Agent\u001b[0m()\n",
      "\u001b[94mJornalist Agent\u001b[0m: \u001b[95mread_news\u001b[0m()\n",
      "\u001b[94mJornalist Agent\u001b[0m: Aqui estão as manchetes do dia:\n",
      "\n",
      "1. **Política:** O governo debate novas reformas econômicas e seu impacto na população.\n",
      "2. **Economia:** O dólar tem queda significativa frente ao real, fechando a R$ 5,10.\n",
      "3. **Saúde:** Autorizada a aplicação da quarta dose da vacina contra COVID-19 para idosos.\n",
      "4. **Educação:** Ministros debatem sobre novos planos para melhorar o ensino fundamental.\n",
      "5. **Tecnologia:** Grandes empresas tecnológicas discutem sobre regulamentação de inteligência artificial.\n",
      "\n",
      "Se precisar de mais detalhes sobre alguma dessas notícias, estou à disposição!\n",
      "Exiting MonkAI Agent 🚀\n"
     ]
    }
   ],
   "source": [
    "from monkai_agent.base import AgentManager\n",
    "from monkai_agent.repl import run_demo_loop\n",
    "from openai import AzureOpenAI\n",
    "import config\n",
    "\n",
    "\n",
    "if __name__ == '__main__': \n",
    "    \"\"\"\n",
    "    Run the demo loop for different agent builders.\n",
    "\n",
    "    Import and instantiate specific agent builders for different roles, \n",
    "    such as Python developer, information researcher, journalist, \n",
    "    and secure calculator. Add these builders to a list for later use in \n",
    "    the demo loop, as many agents you created in the system can be added to this loop.\n",
    "\n",
    "    \"\"\"\n",
    "\n",
    "    from python_developer_agent_creator import PythonDeveloperAgentCreator\n",
    "    from jornalist_agent_creator import JornalistAgentCreator\n",
    "    from calculator_agents_creator import CalculatorAgentCriator\n",
    "    \n",
    "    agents_creators = []\n",
    "    agents_creators.append(PythonDeveloperAgentCreator(user ='valid_user'))\n",
    "    agents_creators.append(JornalistAgentCreator())\n",
    "    agents_creators.append(CalculatorAgentCriator(\"valid_user\"))\n",
    "    client=AzureOpenAI(\n",
    "            api_key=config.OPENAI_API_KEY_BRASILSOUTH,\n",
    "            api_version=config.GPT4o_OPENAI_API_VERSION_BRASILSOUTH,\n",
    "            azure_endpoint=config.OPENAI_AZURE_ENDPOINT_BRASILSOUTH,\n",
    "        )\n",
    "    agent_manager = AgentManager(client=client, agents_creators=agents_creators)\n",
    "    await run_demo_loop(agent_manager, model=config.GPT4o_OPENAI_GPT_MODEL_BRASILSOUTH)\n",
    "\n",
    "   "
   ]
  }
 ],
 "metadata": {
  "kernelspec": {
   "display_name": ".venv",
   "language": "python",
   "name": "python3"
  },
  "language_info": {
   "codemirror_mode": {
    "name": "ipython",
    "version": 3
   },
   "file_extension": ".py",
   "mimetype": "text/x-python",
   "name": "python",
   "nbconvert_exporter": "python",
   "pygments_lexer": "ipython3",
   "version": "3.10.16"
  }
 },
 "nbformat": 4,
 "nbformat_minor": 2
}
