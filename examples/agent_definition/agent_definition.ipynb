{
 "cells": [
  {
   "cell_type": "markdown",
   "metadata": {},
   "source": [
    "# Instalação do MonkAI Agent\n",
    "\n",
    "Primeiro, precisamos instalar o pacote `monkai_agent`. Este é o framework principal que usaremos para criar nosso agente especializado em cálculos matemáticos.\n",
    "\n",
    "Execute a célula abaixo para instalar o pacote:"
   ]
  },
  {
   "cell_type": "code",
   "execution_count": null,
   "metadata": {},
   "outputs": [],
   "source": [
    "#pip install monkai_agent\n"
   ]
  },
  {
   "cell_type": "markdown",
   "metadata": {},
   "source": [
    "# Importando as Dependências\n",
    "\n",
    "Importamos os módulos necessários:\n",
    "- `monkai_agent.types`: Contém a classe `Agent` que usaremos para criar nosso agente\n",
    "- `os`: Módulo padrão do Python para interação com o sistema operacional"
   ]
  },
  {
   "cell_type": "code",
   "execution_count": null,
   "metadata": {},
   "outputs": [],
   "source": [
    "from monkai_agent.types import Agent\n",
    "import os"
   ]
  },
  {
   "cell_type": "markdown",
   "metadata": {},
   "source": [
    "# Calculator Agent\n",
    "\n",
    "Este notebook demonstra a criação de um agente especializado em cálculos matemáticos usando o framework MonkAI Agent. \n",
    "\n",
    "O agente será capaz de:\n",
    "1. Realizar múltiplas operações matemáticas simultaneamente\n",
    "2. Calcular sequências de Fibonacci\n",
    "3. Calcular números de Bernoulli\n",
    "\n",
    "Cada função matemática é implementada separadamente e depois integrada ao agente através de sua definição.\n",
    "\n",
    "**Definição das Funções Matemáticas**\n",
    "\n",
    "Abaixo, definimos três funções matemáticas que nosso agente utilizará:\n",
    "\n",
    "1. **my_function(a, b)**\n",
    "   - Realiza múltiplas operações matemáticas em uma única expressão\n",
    "   - Calcula divisão, multiplicação e uma sequência numérica\n",
    "   - Retorna uma tupla com os resultados\n",
    "\n",
    "2. **fibonacci(num1)**\n",
    "   - Calcula a famosa sequência de Fibonacci\n",
    "   - Cada número é a soma dos dois anteriores\n",
    "   - Ex: [0, 1, 1, 2, 3, 5, 8, 13, ...]\n",
    "\n",
    "3. **bernoulli(n)**"
   ]
  },
  {
   "cell_type": "markdown",
   "metadata": {},
   "source": []
  },
  {
   "cell_type": "code",
   "execution_count": null,
   "metadata": {},
   "outputs": [],
   "source": [
    "def my_function(a: float, b: float):\n",
    "    \"\"\"\n",
    "    Performs multiple mathematical operations in a single expression:\n",
    "      - Division: a / b\n",
    "      - Multiplication: a * b\n",
    "      - Generates a sequence of 10 numbers: [1..10]\n",
    "      - Finds the maximum value in the sequence\n",
    " \n",
    "    Returns:\n",
    "        tuple: (division_result, multiplication_result, number_sequence, max_value)\n",
    "    \n",
    "    Example:\n",
    "        result = single_equation(10, 2)\n",
    "        print(result)  # Output: (5.0, 20, [1, 2, ..., 10], 10)\n",
    "    \"\"\"\n",
    "    sum = 0\n",
    "    for i in list(range(a, b)):\n",
    "        sum += i\n",
    "    return (a / b, a * b, list(range(a, b)), (a/b + a*b)/ sum)\n",
    "\n",
    "def fibonacci(num1):\n",
    "    \"\"\"Calculate the Fibonacci sequence.\n",
    "    \n",
    "    Parameters:\n",
    "        num1 (str): The number of elements of the Fibonacci sequence.\n",
    "\n",
    "    Returns:\n",
    "        list: The Fibonacci sequence.\n",
    "    \"\"\"\n",
    "    num1 = int(num1)\n",
    "    fib = [0, 1]\n",
    "    for i in range(2, num1):\n",
    "        fib.append(fib[i-1] + fib[i-2])\n",
    "    return fib\n",
    "\n",
    "def bernoulli(n:int):\n",
    "    \"\"\"\n",
    "    Calculate the first n Bernoulli numbers.\n",
    "\n",
    "    Parameters:\n",
    "    n (int): The number of Bernoulli numbers to calculate.\n",
    "\n",
    "    Returns:\n",
    "    list: A list of the first n Bernoulli numbers.\n",
    "    \"\"\"\n",
    "    A = [[0] * (n + 1) for _ in range(n + 1)]\n",
    "    for m in range(n + 1):\n",
    "        A[m][0] = 1 / (m + 1)\n",
    "        for j in range(1, m + 1):\n",
    "            A[m][j] = (A[m][j - 1] * (m - j + 1)) / (j + 1)\n",
    "    B = [A[m][m] for m in range(n + 1)]\n",
    "    return B"
   ]
  },
  {
   "cell_type": "markdown",
   "metadata": {},
   "source": [
    "# Criação do Agente Calculadora\n",
    "\n",
    "Agora vamos criar o agente usando a classe `Agent` do MonkAI. Na definição do agente:\n",
    "\n",
    "1. **Nome**: Identificador do agente\n",
    "2. **Instruções**: Prompt que define o comportamento e capacidades do agente\n",
    "3. **Funções**: Lista de funções matemáticas que o agente pode utilizar\n",
    "\n",
    "O agente receberá instruções claras sobre suas capacidades e como usar cada função matemática disponível."
   ]
  },
  {
   "cell_type": "code",
   "execution_count": null,
   "metadata": {},
   "outputs": [],
   "source": [
    "calculator_agent = Agent(name=\"Calculator Agent\",\n",
    "           instructions=\"\"\"You are an agent responsible for performing mathematical calculations.\n",
    "                    You have access to the following functions:\n",
    "                    - my_function(a: float, b: float) -> tuple: Performs multiple mathematical operations in a single expression.\n",
    "                    - fibonacci(num1: str) -> list: Calculate the Fibonacci sequence.\n",
    "                    - bernoulli(num1: str) -> list: Calculate the Bernoulli numbers.                           \n",
    "            \"\"\",\n",
    "            functions=[ \n",
    "                        my_function,\n",
    "                        fibonacci,\n",
    "                        bernoulli\n",
    "                      ])"
   ]
  },
  {
   "cell_type": "markdown",
   "metadata": {},
   "source": [
    "# Execução Interativa do Agente\n",
    "\n",
    "Por fim, vamos executar o agente em modo interativo usando `run_simples_demo_loop`. \n",
    "Isto permite que você:\n",
    "\n",
    "1. Interaja diretamente com o agente\n",
    "2. Faça perguntas sobre cálculos matemáticos\n",
    "3. Teste as diferentes funções implementadas\n",
    "\n",
    "**Nota**: Substitua `\"api_key\"` pela sua chave de API real antes de executar.\n",
    "\n",
    "Exemplos de perguntas que você pode fazer:\n",
    "- \"Calcule a sequência de Fibonacci com 10 números\"\n",
    "- \"Use my_function com os números 5 e 10\"\n",
    "- \"Calcule os primeiros 5 números de Bernoulli\""
   ]
  },
  {
   "cell_type": "code",
   "execution_count": null,
   "metadata": {},
   "outputs": [],
   "source": [
    "from monkai_agent.repl import run_simples_demo_loop\n",
    "\n",
    "await run_simples_demo_loop(calculator_agent, api_key=\"api_key\")"
   ]
  }
 ],
 "metadata": {
  "kernelspec": {
   "display_name": ".venv",
   "language": "python",
   "name": "python3"
  },
  "language_info": {
   "codemirror_mode": {
    "name": "ipython",
    "version": 3
   },
   "file_extension": ".py",
   "mimetype": "text/x-python",
   "name": "python",
   "nbconvert_exporter": "python",
   "pygments_lexer": "ipython3",
   "version": "3.11.11"
  }
 },
 "nbformat": 4,
 "nbformat_minor": 2
}
