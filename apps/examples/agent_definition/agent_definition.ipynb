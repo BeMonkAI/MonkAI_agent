{
 "cells": [
  {
   "cell_type": "code",
   "execution_count": null,
   "metadata": {},
   "outputs": [],
   "source": [
    "#pip install monkai_agent\n"
   ]
  },
  {
   "cell_type": "code",
   "execution_count": null,
   "metadata": {},
   "outputs": [],
   "source": [
    "from monkai_agent.types import Agent\n",
    "import os"
   ]
  },
  {
   "cell_type": "markdown",
   "metadata": {},
   "source": [
    "# Calculator Agent"
   ]
  },
  {
   "cell_type": "markdown",
   "metadata": {},
   "source": []
  },
  {
   "cell_type": "code",
   "execution_count": null,
   "metadata": {},
   "outputs": [],
   "source": [
    "def my_function(a: float, b: float):\n",
    "    \"\"\"\n",
    "    Performs multiple mathematical operations in a single expression:\n",
    "      - Division: a / b\n",
    "      - Multiplication: a * b\n",
    "      - Generates a sequence of 10 numbers: [1..10]\n",
    "      - Finds the maximum value in the sequence\n",
    " \n",
    "    Returns:\n",
    "        tuple: (division_result, multiplication_result, number_sequence, max_value)\n",
    "    \n",
    "    Example:\n",
    "        result = single_equation(10, 2)\n",
    "        print(result)  # Output: (5.0, 20, [1, 2, ..., 10], 10)\n",
    "    \"\"\"\n",
    "    sum = 0\n",
    "    for i in list(range(a, b)):\n",
    "        sum += i\n",
    "    return (a / b, a * b, list(range(a, b)), (a/b + a*b)/ sum)\n",
    "\n",
    "def fibonacci(num1):\n",
    "    \"\"\"Calculate the Fibonacci sequence.\n",
    "    \n",
    "    Parameters:\n",
    "        num1 (str): The number of elements of the Fibonacci sequence.\n",
    "\n",
    "    Returns:\n",
    "        list: The Fibonacci sequence.\n",
    "    \"\"\"\n",
    "    num1 = int(num1)\n",
    "    fib = [0, 1]\n",
    "    for i in range(2, num1):\n",
    "        fib.append(fib[i-1] + fib[i-2])\n",
    "    return fib\n",
    "\n",
    "def bernoulli(n:int):\n",
    "    \"\"\"\n",
    "    Calculate the first n Bernoulli numbers.\n",
    "\n",
    "    Parameters:\n",
    "    n (int): The number of Bernoulli numbers to calculate.\n",
    "\n",
    "    Returns:\n",
    "    list: A list of the first n Bernoulli numbers.\n",
    "    \"\"\"\n",
    "    A = [[0] * (n + 1) for _ in range(n + 1)]\n",
    "    for m in range(n + 1):\n",
    "        A[m][0] = 1 / (m + 1)\n",
    "        for j in range(1, m + 1):\n",
    "            A[m][j] = (A[m][j - 1] * (m - j + 1)) / (j + 1)\n",
    "    B = [A[m][m] for m in range(n + 1)]\n",
    "    return B"
   ]
  },
  {
   "cell_type": "code",
   "execution_count": null,
   "metadata": {},
   "outputs": [],
   "source": [
    "calculator_agent = Agent(name=\"Calculator Agent\",\n",
    "           instructions=\"\"\"You are an agent responsible for performing mathematical calculations.\n",
    "                    You have access to the following functions:\n",
    "                    - my_function(a: float, b: float) -> tuple: Performs multiple mathematical operations in a single expression.\n",
    "                    - fibonacci(num1: str) -> list: Calculate the Fibonacci sequence.\n",
    "                    - bernoulli(num1: str) -> list: Calculate the Bernoulli numbers.                           \n",
    "            \"\"\",\n",
    "            functions=[ \n",
    "                        my_function,\n",
    "                        fibonacci,\n",
    "                        bernoulli\n",
    "                      ])"
   ]
  },
  {
   "cell_type": "code",
   "execution_count": null,
   "metadata": {},
   "outputs": [],
   "source": [
    "from monkai_agent.repl import run_simples_demo_loop\n",
    "from openai import AzureOpenAI\n",
    "import config\n",
    "\n",
    "client=AzureOpenAI(\n",
    "        api_key=config.OPENAI_API_KEY_BRASILSOUTH,\n",
    "        api_version=config.GPT4o_OPENAI_API_VERSION_BRASILSOUTH,\n",
    "        azure_endpoint=config.OPENAI_AZURE_ENDPOINT_BRASILSOUTH,\n",
    "    )\n",
    "await run_simples_demo_loop(calculator_agent, client, model=config.GPT4o_OPENAI_GPT_MODEL_BRASILSOUTH)"
   ]
  }
 ],
 "metadata": {
  "kernelspec": {
   "display_name": ".venv",
   "language": "python",
   "name": "python3"
  },
  "language_info": {
   "codemirror_mode": {
    "name": "ipython",
    "version": 3
   },
   "file_extension": ".py",
   "mimetype": "text/x-python",
   "name": "python",
   "nbconvert_exporter": "python",
   "pygments_lexer": "ipython3",
   "version": "3.11.11"
  }
 },
 "nbformat": 4,
 "nbformat_minor": 2
}
